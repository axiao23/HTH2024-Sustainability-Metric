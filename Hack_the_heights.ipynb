{
  "nbformat": 4,
  "nbformat_minor": 0,
  "metadata": {
    "colab": {
      "provenance": [],
      "toc_visible": true,
      "include_colab_link": true
    },
    "kernelspec": {
      "name": "python3",
      "display_name": "Python 3"
    },
    "language_info": {
      "name": "python"
    }
  },
  "cells": [
    {
      "cell_type": "markdown",
      "metadata": {
        "id": "view-in-github",
        "colab_type": "text"
      },
      "source": [
        "<a href=\"https://colab.research.google.com/github/axiao23/HTH2024-Sustainability-Metric/blob/main/Hack_the_heights.ipynb\" target=\"_parent\"><img src=\"https://colab.research.google.com/assets/colab-badge.svg\" alt=\"Open In Colab\"/></a>"
      ]
    },
    {
      "cell_type": "code",
      "execution_count": null,
      "metadata": {
        "id": "Ke-cCcLFjxcH"
      },
      "outputs": [],
      "source": [
        "#idea: to generate a metric to analyze and produce results for a consumer's grocery list and provide suggestions to improve\n",
        "#their \"sustainability\" score\n",
        "\n",
        "#step 1: generate file that contains a brands and keywords about sustainability to use a a metric for generating a score\n",
        "#step 2: create a file that takes in a file input of a grocery list and extracts the column of products and converts it into\n",
        "#an indexable list\n",
        "#step 3: main function that uses conditionals and compares with the dictionary to generate a score for the product and then sums\n",
        "#to get a final sustainability score\n",
        "#if brand is not in database- create an error message that indicates that\n",
        "#step 4: create a list of suggestions to improve the sustainability based on the score and specific brands\n",
        "#step 5: create some interface using HTML\n"
      ]
    },
    {
      "cell_type": "code",
      "source": [
        "import numpy as np\n",
        "import pandas as pd\n",
        "from collections import namedtuple"
      ],
      "metadata": {
        "id": "Z71HJuFuqY0Y"
      },
      "execution_count": null,
      "outputs": []
    },
    {
      "cell_type": "code",
      "source": [
        "brands = brands.txt\n",
        "groceries = groceries.txt"
      ],
      "metadata": {
        "id": "0WYZ0R_KByM8"
      },
      "execution_count": null,
      "outputs": []
    },
    {
      "cell_type": "code",
      "source": [
        "Brand = namedtuple('Brand', ['name', 'score', 'suggestion'])"
      ],
      "metadata": {
        "id": "ZgUWQV8DwtK2"
      },
      "execution_count": null,
      "outputs": []
    },
    {
      "cell_type": "code",
      "source": [
        "def get_suggestion(brand):\n",
        "  suggestion = \"\"\n",
        "  if brand == \"Nestlé\":\n",
        "    suggestion = (\"Nestlé: consider Oatly for a more sustainable approach to dairy alternatives\" )\n",
        "  elif brand == \"Unilever\":\n",
        "    suggestion = (\"Unilever: try Ethique, which offers zero-waste personal care products \")\n",
        "  elif brand == \"Tyson Foods\":\n",
        "    suggestion = (\"Tyson Foods: Switch to Beyond Meat for plant-based protein options\" )\n",
        "  elif brand == \"Modelez International\":\n",
        "    suggestion = (\"Modelez International: Look into GreenTree for sustainable construction solutions.\" )\n",
        "  elif brand == \"Mars\":\n",
        "    suggestion = (\"Mars: Explore Alter Eco for ethically sourced chocolate.\" )\n",
        "  elif brand == \"Keurig Dr Pepper\":\n",
        "    suggestion = (\"Keurig Dr Pepper: Opt for Soma for eco-friendly coffee brewing solutions\" )\n",
        "  elif brand == \"Reckitt Benckiser\":\n",
        "    suggestion = (\"Recknitt Benckiser: Choose Ecover for biodegradable cleaning products.\" )\n",
        "  elif brand == \"Johnson & Johnson\":\n",
        "    suggestion = (\"Johnson & Johnson: Consider Native for aluminum-free, sustainable personal care\" )\n",
        "  elif brand == \"Kraft Heinz\":\n",
        "    suggestion = (\"Kraft Heinz: Try Annie's for organic and sustainable packaged foods\" )\n",
        "  elif brand == \"Cargill\":\n",
        "    suggestion = (\"Cargill: Switch to Nutrien for more sustainable agricultural solutions\" )\n",
        "  elif brand == \"Dole\":\n",
        "    suggestion = (\"Dole: Consider Fruits & Roots for organic and locally sourced produce\" )\n",
        "  elif brand == \"Palmolive\":\n",
        "    suggestion = (\"Palmolive: Opt for Seventh Generation for eco-friendly dish and laundry soaps\" )\n",
        "  elif brand == \"Colgate\":\n",
        "    suggestion = (\"Colgate: Look into Bamboo Brush for a sustainable alternative to toothpaste and toothbrushes.\" )\n",
        "  elif brand == \"Red Bull\":\n",
        "    suggestion = (\"Red Bull: Try RUNA for a natural energy drink made from guayusa leaves.\" )\n",
        "  else:\n",
        "    return None\n",
        "  return suggestion\n"
      ],
      "metadata": {
        "id": "KJ3BQdRE-vgI"
      },
      "execution_count": null,
      "outputs": []
    },
    {
      "cell_type": "code",
      "source": [
        "def import_brands_and_scores(file_path):\n",
        "  brands = []\n",
        "  try:\n",
        "    with open(file_path, 'r') as file:\n",
        "      for line in file:\n",
        "        brand_name, score = line.strip().split(':')\n",
        "        suggestion = get_suggestion(brand_name)\n",
        "        brand = Brand(name=brand_name, score=int(score), suggestion=suggestion)\n",
        "        brands.append(brand)\n",
        "  except OSError:\n",
        "    print('Invalid file name')\n",
        "  return brands"
      ],
      "metadata": {
        "id": "9VXTRzxY3jPp"
      },
      "execution_count": null,
      "outputs": []
    },
    {
      "cell_type": "code",
      "source": [
        "def import_brands_from_list(file_path):\n",
        "  grocery_brand_names = []\n",
        "  try:\n",
        "    with open(file_path, 'r') as file:\n",
        "      for line in file:\n",
        "        brand_name, score = line.strip().split(':')\n",
        "        grocery_brand_names.append(brand_name)\n",
        "  except OSError:\n",
        "    print('Invalid file name')\n",
        "  return grocery_brand_names"
      ],
      "metadata": {
        "id": "o8opOAR23qZZ"
      },
      "execution_count": null,
      "outputs": []
    },
    {
      "cell_type": "code",
      "source": [
        "def calculate_score_and_get_suggestions(groceries, brands):\n",
        "  score = 0\n",
        "  suggestions = []\n",
        "  for item in groceries:\n",
        "    check = False\n",
        "    for brand in brands:\n",
        "      if item == brand.name:\n",
        "        check = True\n",
        "        score += brand.score\n",
        "        suggestions.append(brand.suggestion)\n",
        "        break\n",
        "    if not check:\n",
        "      print(f\"{item} not included in database. Make sure the brand name is capitalized and contains punctuation (ex. Lays vs Lay's) \\n\")\n",
        "  return score, suggestions"
      ],
      "metadata": {
        "id": "luafsHMQtQz_"
      },
      "execution_count": null,
      "outputs": []
    },
    {
      "cell_type": "code",
      "source": [
        "def main():\n",
        "  brands_master_list = import_brands_and_scores('brands.txt')\n",
        "  grocery_file = input('Enter the file name of your grocery list (.txt file, brands separated from items with a colon): ')\n",
        "  grocery_list_brands = import_brands_from_list(grocery_file)\n",
        "  score, suggestions = calculate_score_and_get_suggestions(grocery_list_brands, brands_master_list)\n",
        "  print(f'Your overall sustainability score is {score} out of {len(grocery_list_brands)*10} ({((score/(len(grocery_list_brands)*10))*100):.2f}% sustainable). Here are some suggestions to improve your score: \\n')\n",
        "  for suggestion in suggestions:\n",
        "    if suggestion != None:\n",
        "      print(suggestion)\n",
        "main()"
      ],
      "metadata": {
        "id": "ue-3pbrj3bUL",
        "colab": {
          "base_uri": "https://localhost:8080/"
        },
        "collapsed": true,
        "outputId": "ea31d3f5-c09e-45a5-b6d5-ea24acc8da0a"
      },
      "execution_count": null,
      "outputs": [
        {
          "output_type": "stream",
          "name": "stdout",
          "text": [
            "Enter the file name of your grocery list (.txt file, brands separated from items with a colon): groceries.txt\n",
            "Audrey not included in database. Make sure the brand name is capitalized and contains punctuation (ex. Lays vs Lay's) \n",
            "\n",
            "Your overall sustainability score is 75 out of 140 (53.57% sustainable). Here are some suggestions to improve your score: \n",
            "\n",
            "Unilever: try Ethique, which offers zero-waste personal care products \n"
          ]
        }
      ]
    }
  ]
}